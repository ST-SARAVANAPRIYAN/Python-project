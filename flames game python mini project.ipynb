{
 "cells": [
  {
   "cell_type": "code",
   "execution_count": null,
   "id": "eae88536-598d-4742-b484-259b35bc109c",
   "metadata": {},
   "outputs": [
    {
     "name": "stdout",
     "output_type": "stream",
     "text": [
      "\t\tWELCOME TO FLAMES GAME\n",
      "\n",
      "\n"
     ]
    }
   ],
   "source": [
    "import matplotlib.pyplot as plt\n",
    "\n",
    "def remove_matching_letters(name1, name2):\n",
    "    name1 = name1.lower()\n",
    "    name2 = name2.lower()\n",
    "    for char in name1:\n",
    "        if char in name2:\n",
    "            name1 = name1.replace(char, '', 1)\n",
    "            name2 = name2.replace(char, '', 1)\n",
    "    return name1, name2\n",
    "\n",
    "def flames_result(name1, name2):\n",
    "    relation = \"FLAMES\"\n",
    "    result_map = {\n",
    "        'F': \"Friendship 🤝\",\n",
    "        'L': \"Love ❤\",\n",
    "        'A': \"Affection 😊\",\n",
    "        'M': \"Marriage 💍\",\n",
    "        'E': \"Enemies 😡\",\n",
    "        'S': \"Siblings 👨‍👩‍👧‍👦\"\n",
    "    }\n",
    "    name1, name2 = remove_matching_letters(name1, name2)\n",
    "    count = len(name1) + len(name2)\n",
    "    if count == 0:\n",
    "        return \"Names are identical. Please enter different names.\"\n",
    "    flames_index = 0\n",
    "    while len(relation) > 1:\n",
    "        flames_index = (flames_index + count - 1) % len(relation)\n",
    "        relation = relation[:flames_index] + relation[flames_index + 1:]\n",
    "    return result_map[relation]\n",
    "\n",
    "def display_result_with_matplotlib(name1, name2, relationship):\n",
    "    # Use a font that supports emojis\n",
    "    plt.rcParams['font.family'] = ['Segoe UI Emoji', 'DejaVu Sans']  # Try Segoe UI Emoji first, fallback to DejaVu Sans\n",
    "    \n",
    "    fig, ax = plt.subplots(figsize=(10, 6))\n",
    "    ax.text(0.5, 0.6, relationship, horizontalalignment='center', verticalalignment='center', fontsize=50, fontweight='bold', transform=ax.transAxes)\n",
    "    ax.text(0.5, 0.4, f\"{name1} AND {name2}\", horizontalalignment='center', verticalalignment='center', fontsize=20, transform=ax.transAxes)\n",
    "    ax.axis('off')\n",
    "    plt.show()\n",
    "\n",
    "def run_flames_game():\n",
    "    print(\"\\t\\tWELCOME TO FLAMES GAME\\n\\n\")\n",
    "    name1 = input(\"Enter the first name: \")\n",
    "    name2 = input(\"Enter the second name: \")\n",
    "\n",
    "    # Get the relationship result\n",
    "    relationship = flames_result(name1, name2)\n",
    "\n",
    "    # Display the result using Matplotlib\n",
    "    display_result_with_matplotlib(name1, name2, relationship)\n",
    "\n",
    "# Run the FLAMES game in Jupyter Notebook\n",
    "run_flames_game()\n"
   ]
  },
  {
   "cell_type": "code",
   "execution_count": null,
   "id": "6ce41bf5-ac50-4e1e-b5df-53e83b644614",
   "metadata": {},
   "outputs": [],
   "source": []
  }
 ],
 "metadata": {
  "kernelspec": {
   "display_name": "Python 3 (ipykernel)",
   "language": "python",
   "name": "python3"
  },
  "language_info": {
   "codemirror_mode": {
    "name": "ipython",
    "version": 3
   },
   "file_extension": ".py",
   "mimetype": "text/x-python",
   "name": "python",
   "nbconvert_exporter": "python",
   "pygments_lexer": "ipython3",
   "version": "3.11.7"
  }
 },
 "nbformat": 4,
 "nbformat_minor": 5
}
